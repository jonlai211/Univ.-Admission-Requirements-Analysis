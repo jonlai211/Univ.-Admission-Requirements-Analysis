{
 "cells": [
  {
   "cell_type": "code",
   "id": "initial_id",
   "metadata": {
    "collapsed": true,
    "ExecuteTime": {
     "end_time": "2024-07-22T03:44:42.611517Z",
     "start_time": "2024-07-22T03:44:42.604724Z"
    }
   },
   "source": [
    "import json\n",
    "\n",
    "combined_content = \"\"\n",
    "\n",
    "json_files = ['harvard_1.json', 'harvard_2.json', 'harvard_3.json', 'harvard_4.json', 'harvard_5.json']\n",
    "\n",
    "for file_name in json_files:\n",
    "    with open(file_name, 'r', encoding='utf-8') as file:\n",
    "        data = json.load(file)\n",
    "        combined_content += data['content'] + \"\\n\\n\"\n",
    "\n",
    "with open('src/harvard.md', 'w', encoding='utf-8') as md_file:\n",
    "    md_file.write(combined_content)\n"
   ],
   "outputs": [],
   "execution_count": 1
  }
 ],
 "metadata": {
  "kernelspec": {
   "display_name": "Python 3",
   "language": "python",
   "name": "python3"
  },
  "language_info": {
   "codemirror_mode": {
    "name": "ipython",
    "version": 2
   },
   "file_extension": ".py",
   "mimetype": "text/x-python",
   "name": "python",
   "nbconvert_exporter": "python",
   "pygments_lexer": "ipython2",
   "version": "2.7.6"
  }
 },
 "nbformat": 4,
 "nbformat_minor": 5
}
